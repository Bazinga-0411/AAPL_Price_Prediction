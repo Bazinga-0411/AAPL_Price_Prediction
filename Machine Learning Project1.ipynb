{
 "cells": [
  {
   "cell_type": "markdown",
   "id": "03258e4f",
   "metadata": {},
   "source": [
    "## **1.Predict the closing price of a stock or index based on last 10 days of closing prices.**\n",
    "\n",
    " – Use 1 year or two years’ data as the training set.\n",
    "\n",
    " – Use both Normal Equation Method and Gradient Descent Method.\n",
    "\n",
    " – See if you get the same answer using both methods.\n",
    "\n",
    " – See how your answers evolve as you play with different values of α and criterion for \n",
    "determining convergence.\n",
    "\n",
    " – Plot your model performance together with real data for 6 months for your choice of α"
   ]
  },
  {
   "cell_type": "code",
   "execution_count": 96,
   "id": "15838ee1",
   "metadata": {},
   "outputs": [],
   "source": [
    "import yfinance as yf\n",
    "import numpy as np\n",
    "import pandas as pd\n",
    "from datetime import datetime, timedelta\n",
    "import matplotlib.pyplot as plt\n",
    "from sklearn.linear_model import LinearRegression\n",
    "from sklearn.metrics import mean_squared_error, r2_score, mean_absolute_error, accuracy_score\n",
    "from math import sqrt"
   ]
  },
  {
   "cell_type": "code",
   "execution_count": 97,
   "id": "82bd4d93",
   "metadata": {},
   "outputs": [
    {
     "name": "stdout",
     "output_type": "stream",
     "text": [
      "[*********************100%%**********************]  1 of 1 completed\n"
     ]
    },
    {
     "data": {
      "text/html": [
       "<div>\n",
       "<style scoped>\n",
       "    .dataframe tbody tr th:only-of-type {\n",
       "        vertical-align: middle;\n",
       "    }\n",
       "\n",
       "    .dataframe tbody tr th {\n",
       "        vertical-align: top;\n",
       "    }\n",
       "\n",
       "    .dataframe thead th {\n",
       "        text-align: right;\n",
       "    }\n",
       "</style>\n",
       "<table border=\"1\" class=\"dataframe\">\n",
       "  <thead>\n",
       "    <tr style=\"text-align: right;\">\n",
       "      <th></th>\n",
       "      <th>Open</th>\n",
       "      <th>High</th>\n",
       "      <th>Low</th>\n",
       "      <th>Close</th>\n",
       "      <th>Adj Close</th>\n",
       "      <th>Volume</th>\n",
       "    </tr>\n",
       "    <tr>\n",
       "      <th>Date</th>\n",
       "      <th></th>\n",
       "      <th></th>\n",
       "      <th></th>\n",
       "      <th></th>\n",
       "      <th></th>\n",
       "      <th></th>\n",
       "    </tr>\n",
       "  </thead>\n",
       "  <tbody>\n",
       "    <tr>\n",
       "      <th>2021-09-24</th>\n",
       "      <td>145.660004</td>\n",
       "      <td>147.470001</td>\n",
       "      <td>145.559998</td>\n",
       "      <td>146.919998</td>\n",
       "      <td>145.239700</td>\n",
       "      <td>53477900</td>\n",
       "    </tr>\n",
       "    <tr>\n",
       "      <th>2021-09-27</th>\n",
       "      <td>145.470001</td>\n",
       "      <td>145.960007</td>\n",
       "      <td>143.820007</td>\n",
       "      <td>145.369995</td>\n",
       "      <td>143.707397</td>\n",
       "      <td>74150700</td>\n",
       "    </tr>\n",
       "    <tr>\n",
       "      <th>2021-09-28</th>\n",
       "      <td>143.250000</td>\n",
       "      <td>144.750000</td>\n",
       "      <td>141.690002</td>\n",
       "      <td>141.910004</td>\n",
       "      <td>140.287018</td>\n",
       "      <td>108972300</td>\n",
       "    </tr>\n",
       "    <tr>\n",
       "      <th>2021-09-29</th>\n",
       "      <td>142.470001</td>\n",
       "      <td>144.449997</td>\n",
       "      <td>142.029999</td>\n",
       "      <td>142.830002</td>\n",
       "      <td>141.196472</td>\n",
       "      <td>74602000</td>\n",
       "    </tr>\n",
       "    <tr>\n",
       "      <th>2021-09-30</th>\n",
       "      <td>143.660004</td>\n",
       "      <td>144.380005</td>\n",
       "      <td>141.279999</td>\n",
       "      <td>141.500000</td>\n",
       "      <td>139.881683</td>\n",
       "      <td>89056700</td>\n",
       "    </tr>\n",
       "  </tbody>\n",
       "</table>\n",
       "</div>"
      ],
      "text/plain": [
       "                  Open        High         Low       Close   Adj Close  \\\n",
       "Date                                                                     \n",
       "2021-09-24  145.660004  147.470001  145.559998  146.919998  145.239700   \n",
       "2021-09-27  145.470001  145.960007  143.820007  145.369995  143.707397   \n",
       "2021-09-28  143.250000  144.750000  141.690002  141.910004  140.287018   \n",
       "2021-09-29  142.470001  144.449997  142.029999  142.830002  141.196472   \n",
       "2021-09-30  143.660004  144.380005  141.279999  141.500000  139.881683   \n",
       "\n",
       "               Volume  \n",
       "Date                   \n",
       "2021-09-24   53477900  \n",
       "2021-09-27   74150700  \n",
       "2021-09-28  108972300  \n",
       "2021-09-29   74602000  \n",
       "2021-09-30   89056700  "
      ]
     },
     "execution_count": 97,
     "metadata": {},
     "output_type": "execute_result"
    }
   ],
   "source": [
    "#Fetch Data\n",
    "specified_date = datetime(2023, 9, 24)\n",
    "start = specified_date - timedelta(days=730)\n",
    "end = specified_date - timedelta(days=180)\n",
    "AAPL = yf.download('AAPL', start, end)\n",
    "AAPL.head()"
   ]
  },
  {
   "cell_type": "code",
   "execution_count": 98,
   "id": "42897a65",
   "metadata": {},
   "outputs": [
    {
     "data": {
      "text/plain": [
       "378"
      ]
     },
     "execution_count": 98,
     "metadata": {},
     "output_type": "execute_result"
    }
   ],
   "source": [
    "df = pd.DataFrame(AAPL.Close)\n",
    "len(df)"
   ]
  },
  {
   "cell_type": "code",
   "execution_count": 99,
   "id": "f29169d0",
   "metadata": {},
   "outputs": [],
   "source": [
    "# Generate a 10-day lagged value for training machine learning models.\n",
    "def data(df, gap = 10):\n",
    "    X_train, y_train = [],[]\n",
    "    for i in range(len(df)-gap):\n",
    "        X_train.append(df['Close'].iloc[i:i+gap].values)\n",
    "        y_train.append(df['Close'].iloc[i+gap])\n",
    "    return pd.DataFrame(X_train), pd.Series(y_train)\n",
    "\n",
    "X_train, y_train = data(df)"
   ]
  },
  {
   "cell_type": "code",
   "execution_count": 100,
   "id": "9e6aea89",
   "metadata": {},
   "outputs": [
    {
     "data": {
      "text/html": [
       "<div>\n",
       "<style scoped>\n",
       "    .dataframe tbody tr th:only-of-type {\n",
       "        vertical-align: middle;\n",
       "    }\n",
       "\n",
       "    .dataframe tbody tr th {\n",
       "        vertical-align: top;\n",
       "    }\n",
       "\n",
       "    .dataframe thead th {\n",
       "        text-align: right;\n",
       "    }\n",
       "</style>\n",
       "<table border=\"1\" class=\"dataframe\">\n",
       "  <thead>\n",
       "    <tr style=\"text-align: right;\">\n",
       "      <th></th>\n",
       "      <th>0</th>\n",
       "      <th>1</th>\n",
       "      <th>2</th>\n",
       "      <th>3</th>\n",
       "      <th>4</th>\n",
       "      <th>5</th>\n",
       "      <th>6</th>\n",
       "      <th>7</th>\n",
       "      <th>8</th>\n",
       "      <th>9</th>\n",
       "    </tr>\n",
       "  </thead>\n",
       "  <tbody>\n",
       "    <tr>\n",
       "      <th>count</th>\n",
       "      <td>368.000000</td>\n",
       "      <td>368.000000</td>\n",
       "      <td>368.000000</td>\n",
       "      <td>368.000000</td>\n",
       "      <td>368.000000</td>\n",
       "      <td>368.000000</td>\n",
       "      <td>368.000000</td>\n",
       "      <td>368.000000</td>\n",
       "      <td>368.000000</td>\n",
       "      <td>368.000000</td>\n",
       "    </tr>\n",
       "    <tr>\n",
       "      <th>mean</th>\n",
       "      <td>153.887473</td>\n",
       "      <td>153.902880</td>\n",
       "      <td>153.923587</td>\n",
       "      <td>153.961467</td>\n",
       "      <td>153.994538</td>\n",
       "      <td>154.037745</td>\n",
       "      <td>154.082935</td>\n",
       "      <td>154.133723</td>\n",
       "      <td>154.182147</td>\n",
       "      <td>154.231739</td>\n",
       "    </tr>\n",
       "    <tr>\n",
       "      <th>std</th>\n",
       "      <td>13.081345</td>\n",
       "      <td>13.076455</td>\n",
       "      <td>13.068937</td>\n",
       "      <td>13.054215</td>\n",
       "      <td>13.041347</td>\n",
       "      <td>13.026170</td>\n",
       "      <td>13.015398</td>\n",
       "      <td>12.993376</td>\n",
       "      <td>12.977904</td>\n",
       "      <td>12.966089</td>\n",
       "    </tr>\n",
       "    <tr>\n",
       "      <th>min</th>\n",
       "      <td>125.019997</td>\n",
       "      <td>125.019997</td>\n",
       "      <td>125.019997</td>\n",
       "      <td>125.019997</td>\n",
       "      <td>125.019997</td>\n",
       "      <td>125.019997</td>\n",
       "      <td>125.019997</td>\n",
       "      <td>125.019997</td>\n",
       "      <td>125.019997</td>\n",
       "      <td>125.019997</td>\n",
       "    </tr>\n",
       "    <tr>\n",
       "      <th>25%</th>\n",
       "      <td>144.155003</td>\n",
       "      <td>144.155003</td>\n",
       "      <td>144.155003</td>\n",
       "      <td>144.272495</td>\n",
       "      <td>144.440002</td>\n",
       "      <td>144.722504</td>\n",
       "      <td>144.829998</td>\n",
       "      <td>144.862495</td>\n",
       "      <td>144.989998</td>\n",
       "      <td>145.239998</td>\n",
       "    </tr>\n",
       "    <tr>\n",
       "      <th>50%</th>\n",
       "      <td>151.245003</td>\n",
       "      <td>151.284996</td>\n",
       "      <td>151.389999</td>\n",
       "      <td>151.545006</td>\n",
       "      <td>151.600006</td>\n",
       "      <td>151.665001</td>\n",
       "      <td>151.744995</td>\n",
       "      <td>151.839996</td>\n",
       "      <td>151.989998</td>\n",
       "      <td>152.199997</td>\n",
       "    </tr>\n",
       "    <tr>\n",
       "      <th>75%</th>\n",
       "      <td>164.855003</td>\n",
       "      <td>164.855003</td>\n",
       "      <td>164.855003</td>\n",
       "      <td>164.855003</td>\n",
       "      <td>164.855003</td>\n",
       "      <td>164.855003</td>\n",
       "      <td>164.855003</td>\n",
       "      <td>164.855003</td>\n",
       "      <td>164.855003</td>\n",
       "      <td>164.855003</td>\n",
       "    </tr>\n",
       "    <tr>\n",
       "      <th>max</th>\n",
       "      <td>182.009995</td>\n",
       "      <td>182.009995</td>\n",
       "      <td>182.009995</td>\n",
       "      <td>182.009995</td>\n",
       "      <td>182.009995</td>\n",
       "      <td>182.009995</td>\n",
       "      <td>182.009995</td>\n",
       "      <td>182.009995</td>\n",
       "      <td>182.009995</td>\n",
       "      <td>182.009995</td>\n",
       "    </tr>\n",
       "  </tbody>\n",
       "</table>\n",
       "</div>"
      ],
      "text/plain": [
       "                0           1           2           3           4           5  \\\n",
       "count  368.000000  368.000000  368.000000  368.000000  368.000000  368.000000   \n",
       "mean   153.887473  153.902880  153.923587  153.961467  153.994538  154.037745   \n",
       "std     13.081345   13.076455   13.068937   13.054215   13.041347   13.026170   \n",
       "min    125.019997  125.019997  125.019997  125.019997  125.019997  125.019997   \n",
       "25%    144.155003  144.155003  144.155003  144.272495  144.440002  144.722504   \n",
       "50%    151.245003  151.284996  151.389999  151.545006  151.600006  151.665001   \n",
       "75%    164.855003  164.855003  164.855003  164.855003  164.855003  164.855003   \n",
       "max    182.009995  182.009995  182.009995  182.009995  182.009995  182.009995   \n",
       "\n",
       "                6           7           8           9  \n",
       "count  368.000000  368.000000  368.000000  368.000000  \n",
       "mean   154.082935  154.133723  154.182147  154.231739  \n",
       "std     13.015398   12.993376   12.977904   12.966089  \n",
       "min    125.019997  125.019997  125.019997  125.019997  \n",
       "25%    144.829998  144.862495  144.989998  145.239998  \n",
       "50%    151.744995  151.839996  151.989998  152.199997  \n",
       "75%    164.855003  164.855003  164.855003  164.855003  \n",
       "max    182.009995  182.009995  182.009995  182.009995  "
      ]
     },
     "execution_count": 100,
     "metadata": {},
     "output_type": "execute_result"
    }
   ],
   "source": [
    "X_train.describe()"
   ]
  },
  {
   "cell_type": "code",
   "execution_count": 101,
   "id": "3d756a4e",
   "metadata": {},
   "outputs": [
    {
     "data": {
      "text/plain": [
       "10"
      ]
     },
     "execution_count": 101,
     "metadata": {},
     "output_type": "execute_result"
    }
   ],
   "source": [
    "X_train[0]\n",
    "type(X_train)\n",
    "X_train = X_train.values\n",
    "X_train.shape[1]"
   ]
  },
  {
   "cell_type": "code",
   "execution_count": 102,
   "id": "c74e09e3",
   "metadata": {},
   "outputs": [
    {
     "data": {
      "text/plain": [
       "count    368.000000\n",
       "mean     154.272473\n",
       "std       12.955163\n",
       "min      125.019997\n",
       "25%      145.362503\n",
       "50%      152.354996\n",
       "75%      164.855003\n",
       "max      182.009995\n",
       "dtype: float64"
      ]
     },
     "execution_count": 102,
     "metadata": {},
     "output_type": "execute_result"
    }
   ],
   "source": [
    "y_train.describe()"
   ]
  },
  {
   "cell_type": "code",
   "execution_count": 25,
   "id": "be97e506",
   "metadata": {},
   "outputs": [],
   "source": [
    "y_train = y_train.values"
   ]
  },
  {
   "cell_type": "code",
   "execution_count": 26,
   "id": "f8f7327b",
   "metadata": {},
   "outputs": [
    {
     "data": {
      "text/plain": [
       "142.89999389648438"
      ]
     },
     "execution_count": 26,
     "metadata": {},
     "output_type": "execute_result"
    }
   ],
   "source": [
    "y_train[0]"
   ]
  },
  {
   "cell_type": "markdown",
   "id": "297066e6",
   "metadata": {},
   "source": [
    "### Gradient Descent"
   ]
  },
  {
   "cell_type": "code",
   "execution_count": 27,
   "id": "2648a939",
   "metadata": {},
   "outputs": [],
   "source": [
    "def cost_function(X, y, w, b):\n",
    "    m = X.shape[0]\n",
    "    cost = 0\n",
    "    \n",
    "    for i in range (m):\n",
    "        f_wb = np.dot(X[i], w) + b\n",
    "        cost += (f_wb - y[i])**2\n",
    "        \n",
    "    total_cost = cost/(2*m)\n",
    "    return total_cost\n",
    "\n",
    "def gradient_descent(X, y, w, b):\n",
    "    m,n = X.shape\n",
    "    dj_dw = np.zeros(n,)\n",
    "    dj_db = 0.\n",
    "    \n",
    "    for i in range(m):\n",
    "        error = np.dot(X[i],w) + b - y[i]\n",
    "        for j in range(n):\n",
    "            dj_dw[j] = dj_dw[j] + error * X[i,j]\n",
    "        dj_db = dj_db + error\n",
    "    \n",
    "    dj_dw = dj_dw / m\n",
    "    dj_db = dj_db / m\n",
    "    return dj_dw, dj_db\n",
    "\n",
    "def gradient_function(X, y, w, b, alpha, iterations,gradient_descent,cost_function):\n",
    "    J_history = []\n",
    "    \n",
    "    for i in range(iterations):\n",
    "        dj_dw, dj_db = gradient_descent(X, y, w, b)\n",
    "        w = w - alpha * dj_dw\n",
    "        b = b - alpha * dj_db\n",
    "        \n",
    "        if i < 10000:\n",
    "            J_history.append(cost_function(X, y, w, b))\n",
    "        if i % (iterations//10) == 0:\n",
    "            print(i, J_history[-1])\n",
    "            \n",
    "    return w,b,J_history\n"
   ]
  },
  {
   "cell_type": "code",
   "execution_count": 28,
   "id": "628c5e6b",
   "metadata": {},
   "outputs": [
    {
     "name": "stdout",
     "output_type": "stream",
     "text": [
      "0 11842.181972819059\n",
      "5000 6.029090324504339\n",
      "10000 5.40258195250923\n",
      "15000 5.40258195250923\n",
      "20000 5.40258195250923\n",
      "25000 5.40258195250923\n",
      "30000 5.40258195250923\n",
      "35000 5.40258195250923\n",
      "40000 5.40258195250923\n",
      "45000 5.40258195250923\n",
      "[-0.01267272  0.05797589 -0.04572824 -0.00915673 -0.05493214  0.07580223\n",
      " -0.00121348  0.02589478  0.03654299  0.92747243] 0.01572724641943894\n"
     ]
    }
   ],
   "source": [
    "b_in = 0.\n",
    "w_in = np.zeros(X_train.shape[1],)\n",
    "alpha = 0.00000835\n",
    "iterations = 50000\n",
    "w_final, b_final, J_hist = gradient_function(X_train, y_train, w_in, b_in, alpha, iterations, gradient_descent,cost_function)\n",
    "print(w_final, b_final)"
   ]
  },
  {
   "cell_type": "code",
   "execution_count": 32,
   "id": "80a9e856",
   "metadata": {},
   "outputs": [
    {
     "name": "stdout",
     "output_type": "stream",
     "text": [
      "[*********************100%%**********************]  1 of 1 completed\n"
     ]
    },
    {
     "data": {
      "text/html": [
       "<div>\n",
       "<style scoped>\n",
       "    .dataframe tbody tr th:only-of-type {\n",
       "        vertical-align: middle;\n",
       "    }\n",
       "\n",
       "    .dataframe tbody tr th {\n",
       "        vertical-align: top;\n",
       "    }\n",
       "\n",
       "    .dataframe thead th {\n",
       "        text-align: right;\n",
       "    }\n",
       "</style>\n",
       "<table border=\"1\" class=\"dataframe\">\n",
       "  <thead>\n",
       "    <tr style=\"text-align: right;\">\n",
       "      <th></th>\n",
       "      <th>Open</th>\n",
       "      <th>High</th>\n",
       "      <th>Low</th>\n",
       "      <th>Close</th>\n",
       "      <th>Adj Close</th>\n",
       "      <th>Volume</th>\n",
       "    </tr>\n",
       "    <tr>\n",
       "      <th>Date</th>\n",
       "      <th></th>\n",
       "      <th></th>\n",
       "      <th></th>\n",
       "      <th></th>\n",
       "      <th></th>\n",
       "      <th></th>\n",
       "    </tr>\n",
       "  </thead>\n",
       "  <tbody>\n",
       "    <tr>\n",
       "      <th>2023-03-28</th>\n",
       "      <td>157.970001</td>\n",
       "      <td>158.490005</td>\n",
       "      <td>155.979996</td>\n",
       "      <td>157.649994</td>\n",
       "      <td>157.219925</td>\n",
       "      <td>45992200</td>\n",
       "    </tr>\n",
       "    <tr>\n",
       "      <th>2023-03-29</th>\n",
       "      <td>159.369995</td>\n",
       "      <td>161.050003</td>\n",
       "      <td>159.350006</td>\n",
       "      <td>160.770004</td>\n",
       "      <td>160.331436</td>\n",
       "      <td>51305700</td>\n",
       "    </tr>\n",
       "    <tr>\n",
       "      <th>2023-03-30</th>\n",
       "      <td>161.529999</td>\n",
       "      <td>162.470001</td>\n",
       "      <td>161.270004</td>\n",
       "      <td>162.360001</td>\n",
       "      <td>161.917099</td>\n",
       "      <td>49501700</td>\n",
       "    </tr>\n",
       "    <tr>\n",
       "      <th>2023-03-31</th>\n",
       "      <td>162.440002</td>\n",
       "      <td>165.000000</td>\n",
       "      <td>161.910004</td>\n",
       "      <td>164.899994</td>\n",
       "      <td>164.450150</td>\n",
       "      <td>68749800</td>\n",
       "    </tr>\n",
       "    <tr>\n",
       "      <th>2023-04-03</th>\n",
       "      <td>164.270004</td>\n",
       "      <td>166.289993</td>\n",
       "      <td>164.220001</td>\n",
       "      <td>166.169998</td>\n",
       "      <td>165.716690</td>\n",
       "      <td>56976200</td>\n",
       "    </tr>\n",
       "    <tr>\n",
       "      <th>...</th>\n",
       "      <td>...</td>\n",
       "      <td>...</td>\n",
       "      <td>...</td>\n",
       "      <td>...</td>\n",
       "      <td>...</td>\n",
       "      <td>...</td>\n",
       "    </tr>\n",
       "    <tr>\n",
       "      <th>2023-09-18</th>\n",
       "      <td>176.479996</td>\n",
       "      <td>179.380005</td>\n",
       "      <td>176.169998</td>\n",
       "      <td>177.970001</td>\n",
       "      <td>177.970001</td>\n",
       "      <td>67257600</td>\n",
       "    </tr>\n",
       "    <tr>\n",
       "      <th>2023-09-19</th>\n",
       "      <td>177.520004</td>\n",
       "      <td>179.630005</td>\n",
       "      <td>177.130005</td>\n",
       "      <td>179.070007</td>\n",
       "      <td>179.070007</td>\n",
       "      <td>51826900</td>\n",
       "    </tr>\n",
       "    <tr>\n",
       "      <th>2023-09-20</th>\n",
       "      <td>179.259995</td>\n",
       "      <td>179.699997</td>\n",
       "      <td>175.399994</td>\n",
       "      <td>175.490005</td>\n",
       "      <td>175.490005</td>\n",
       "      <td>58436200</td>\n",
       "    </tr>\n",
       "    <tr>\n",
       "      <th>2023-09-21</th>\n",
       "      <td>174.550003</td>\n",
       "      <td>176.300003</td>\n",
       "      <td>173.860001</td>\n",
       "      <td>173.929993</td>\n",
       "      <td>173.929993</td>\n",
       "      <td>63047900</td>\n",
       "    </tr>\n",
       "    <tr>\n",
       "      <th>2023-09-22</th>\n",
       "      <td>174.669998</td>\n",
       "      <td>177.080002</td>\n",
       "      <td>174.050003</td>\n",
       "      <td>174.789993</td>\n",
       "      <td>174.789993</td>\n",
       "      <td>56663000</td>\n",
       "    </tr>\n",
       "  </tbody>\n",
       "</table>\n",
       "<p>124 rows × 6 columns</p>\n",
       "</div>"
      ],
      "text/plain": [
       "                  Open        High         Low       Close   Adj Close  \\\n",
       "Date                                                                     \n",
       "2023-03-28  157.970001  158.490005  155.979996  157.649994  157.219925   \n",
       "2023-03-29  159.369995  161.050003  159.350006  160.770004  160.331436   \n",
       "2023-03-30  161.529999  162.470001  161.270004  162.360001  161.917099   \n",
       "2023-03-31  162.440002  165.000000  161.910004  164.899994  164.450150   \n",
       "2023-04-03  164.270004  166.289993  164.220001  166.169998  165.716690   \n",
       "...                ...         ...         ...         ...         ...   \n",
       "2023-09-18  176.479996  179.380005  176.169998  177.970001  177.970001   \n",
       "2023-09-19  177.520004  179.630005  177.130005  179.070007  179.070007   \n",
       "2023-09-20  179.259995  179.699997  175.399994  175.490005  175.490005   \n",
       "2023-09-21  174.550003  176.300003  173.860001  173.929993  173.929993   \n",
       "2023-09-22  174.669998  177.080002  174.050003  174.789993  174.789993   \n",
       "\n",
       "              Volume  \n",
       "Date                  \n",
       "2023-03-28  45992200  \n",
       "2023-03-29  51305700  \n",
       "2023-03-30  49501700  \n",
       "2023-03-31  68749800  \n",
       "2023-04-03  56976200  \n",
       "...              ...  \n",
       "2023-09-18  67257600  \n",
       "2023-09-19  51826900  \n",
       "2023-09-20  58436200  \n",
       "2023-09-21  63047900  \n",
       "2023-09-22  56663000  \n",
       "\n",
       "[124 rows x 6 columns]"
      ]
     },
     "execution_count": 32,
     "metadata": {},
     "output_type": "execute_result"
    }
   ],
   "source": [
    "from datetime import datetime, timedelta\n",
    "specified_date = datetime(2023, 9, 24)\n",
    "start_test = specified_date  - timedelta(days = 180)\n",
    "end_test = specified_date - timedelta(days = 0)\n",
    "\n",
    "AAPL_test = yf.download('AAPL', start_test, end_test)\n",
    "AAPL_test"
   ]
  },
  {
   "cell_type": "code",
   "execution_count": 33,
   "id": "223ff035",
   "metadata": {},
   "outputs": [
    {
     "data": {
      "text/html": [
       "<div>\n",
       "<style scoped>\n",
       "    .dataframe tbody tr th:only-of-type {\n",
       "        vertical-align: middle;\n",
       "    }\n",
       "\n",
       "    .dataframe tbody tr th {\n",
       "        vertical-align: top;\n",
       "    }\n",
       "\n",
       "    .dataframe thead th {\n",
       "        text-align: right;\n",
       "    }\n",
       "</style>\n",
       "<table border=\"1\" class=\"dataframe\">\n",
       "  <thead>\n",
       "    <tr style=\"text-align: right;\">\n",
       "      <th></th>\n",
       "      <th>Close</th>\n",
       "    </tr>\n",
       "    <tr>\n",
       "      <th>Date</th>\n",
       "      <th></th>\n",
       "    </tr>\n",
       "  </thead>\n",
       "  <tbody>\n",
       "    <tr>\n",
       "      <th>2023-03-28</th>\n",
       "      <td>157.649994</td>\n",
       "    </tr>\n",
       "    <tr>\n",
       "      <th>2023-03-29</th>\n",
       "      <td>160.770004</td>\n",
       "    </tr>\n",
       "    <tr>\n",
       "      <th>2023-03-30</th>\n",
       "      <td>162.360001</td>\n",
       "    </tr>\n",
       "    <tr>\n",
       "      <th>2023-03-31</th>\n",
       "      <td>164.899994</td>\n",
       "    </tr>\n",
       "    <tr>\n",
       "      <th>2023-04-03</th>\n",
       "      <td>166.169998</td>\n",
       "    </tr>\n",
       "    <tr>\n",
       "      <th>...</th>\n",
       "      <td>...</td>\n",
       "    </tr>\n",
       "    <tr>\n",
       "      <th>2023-09-18</th>\n",
       "      <td>177.970001</td>\n",
       "    </tr>\n",
       "    <tr>\n",
       "      <th>2023-09-19</th>\n",
       "      <td>179.070007</td>\n",
       "    </tr>\n",
       "    <tr>\n",
       "      <th>2023-09-20</th>\n",
       "      <td>175.490005</td>\n",
       "    </tr>\n",
       "    <tr>\n",
       "      <th>2023-09-21</th>\n",
       "      <td>173.929993</td>\n",
       "    </tr>\n",
       "    <tr>\n",
       "      <th>2023-09-22</th>\n",
       "      <td>174.789993</td>\n",
       "    </tr>\n",
       "  </tbody>\n",
       "</table>\n",
       "<p>124 rows × 1 columns</p>\n",
       "</div>"
      ],
      "text/plain": [
       "                 Close\n",
       "Date                  \n",
       "2023-03-28  157.649994\n",
       "2023-03-29  160.770004\n",
       "2023-03-30  162.360001\n",
       "2023-03-31  164.899994\n",
       "2023-04-03  166.169998\n",
       "...                ...\n",
       "2023-09-18  177.970001\n",
       "2023-09-19  179.070007\n",
       "2023-09-20  175.490005\n",
       "2023-09-21  173.929993\n",
       "2023-09-22  174.789993\n",
       "\n",
       "[124 rows x 1 columns]"
      ]
     },
     "execution_count": 33,
     "metadata": {},
     "output_type": "execute_result"
    }
   ],
   "source": [
    "df_test = pd.DataFrame(AAPL_test.Close)\n",
    "df_test"
   ]
  },
  {
   "cell_type": "code",
   "execution_count": 34,
   "id": "a6f0f89f",
   "metadata": {},
   "outputs": [],
   "source": [
    "def data(df_test, gap = 10):\n",
    "    X_test, y_test = [],[]\n",
    "    for i in range(len(df_test)-gap):\n",
    "        X_test.append(df_test['Close'].iloc[i:i+gap].values)\n",
    "        y_test.append(df_test['Close'].iloc[i+gap])\n",
    "    return pd.DataFrame(X_test), pd.Series(y_test)\n",
    "\n",
    "X_test, y_test = data(df_test)"
   ]
  },
  {
   "cell_type": "code",
   "execution_count": 35,
   "id": "8e26c269",
   "metadata": {},
   "outputs": [
    {
     "data": {
      "text/plain": [
       "array([160.1000061 , 165.55999756, 165.21000671, 165.22999573,\n",
       "       166.47000122, 167.63000488, 166.6499939 , 165.02000427,\n",
       "       165.33000183, 163.77000427])"
      ]
     },
     "execution_count": 35,
     "metadata": {},
     "output_type": "execute_result"
    }
   ],
   "source": [
    "X_test = X_test.values\n",
    "X_test[10]"
   ]
  },
  {
   "cell_type": "code",
   "execution_count": 36,
   "id": "75a3bb1b",
   "metadata": {},
   "outputs": [
    {
     "data": {
      "text/plain": [
       "114"
      ]
     },
     "execution_count": 36,
     "metadata": {},
     "output_type": "execute_result"
    }
   ],
   "source": [
    "type(y_test)\n",
    "y_test = y_test.values\n",
    "len(y_test)"
   ]
  },
  {
   "cell_type": "code",
   "execution_count": 37,
   "id": "333edb06",
   "metadata": {},
   "outputs": [
    {
     "name": "stdout",
     "output_type": "stream",
     "text": [
      "[160.00447704 165.25915429 164.95189558 165.18098536 166.21195724\n",
      " 167.99382153 166.73167744 165.17740193 165.19999721]\n"
     ]
    }
   ],
   "source": [
    "m = X_test.shape[0]\n",
    "y_predict = np.zeros(m,)\n",
    "for i in range(m):\n",
    "    y_predict[i] = np.dot(w_final, X_test[i]) + b_final\n",
    "print(y_predict[1:10])\n"
   ]
  },
  {
   "cell_type": "code",
   "execution_count": 38,
   "id": "646c1263",
   "metadata": {},
   "outputs": [
    {
     "data": {
      "text/plain": [
       "0.932751203564466"
      ]
     },
     "execution_count": 38,
     "metadata": {},
     "output_type": "execute_result"
    }
   ],
   "source": [
    "r2 = r2_score(y_test, y_predict)\n",
    "r2"
   ]
  },
  {
   "cell_type": "code",
   "execution_count": 39,
   "id": "969ccb22",
   "metadata": {},
   "outputs": [
    {
     "data": {
      "text/plain": [
       "114"
      ]
     },
     "execution_count": 39,
     "metadata": {},
     "output_type": "execute_result"
    }
   ],
   "source": [
    "len(y_predict)"
   ]
  },
  {
   "cell_type": "code",
   "execution_count": 41,
   "id": "7a8928e6",
   "metadata": {},
   "outputs": [
    {
     "data": {
      "image/png": "[encoded data removed]",
      "text/plain": [
       "<Figure size 1400x700 with 1 Axes>"
      ]
     },
     "metadata": {},
     "output_type": "display_data"
    }
   ],
   "source": [
    "# Plot the predictions\n",
    "plt.figure(figsize=(14, 7))\n",
    "plt.plot(y_test, label=\"Tested Stock Price\", color=\"blue\")\n",
    "plt.plot(y_predict, label=\"Predictions (Gradient Descent)\", color=\"green\", linestyle=\"--\")\n",
    "plt.legend()\n",
    "plt.title(\"Stock Price Predictions vs Stock Price Tested : Gradient Descent Method\")\n",
    "plt.show()"
   ]
  },
  {
   "cell_type": "code",
   "execution_count": 42,
   "id": "55050bc0",
   "metadata": {},
   "outputs": [
    {
     "name": "stdout",
     "output_type": "stream",
     "text": [
      "RMSE = 2.331 \n",
      "MSE = 5.432708798648557 \n",
      "MAE = 1.687911205854015 \n",
      "R2 = 0.932751203564466\n"
     ]
    }
   ],
   "source": [
    "RMSE= float(format(np.sqrt(mean_squared_error(y_test, y_predict)), \".3f\"))\n",
    "MSE= mean_squared_error(y_test, y_predict)\n",
    "MAE= mean_absolute_error(y_test, y_predict)\n",
    "r2= r2_score(y_test, y_predict)\n",
    "\n",
    "print('RMSE =',RMSE, '\\nMSE =',MSE, '\\nMAE =',MAE, '\\nR2 =', r2) "
   ]
  },
  {
   "cell_type": "markdown",
   "id": "4eaf323e",
   "metadata": {},
   "source": [
    "## **Normal Equation**"
   ]
  },
  {
   "cell_type": "code",
   "execution_count": 43,
   "id": "a1d2b485",
   "metadata": {},
   "outputs": [
    {
     "data": {
      "text/plain": [
       "array([[146.91999817, 145.36999512, 141.91000366, ...,   1.        ,\n",
       "          1.        ,   1.        ],\n",
       "       [145.36999512, 141.91000366, 142.83000183, ...,   1.        ,\n",
       "          1.        ,   1.        ],\n",
       "       [141.91000366, 142.83000183, 141.5       , ...,   1.        ,\n",
       "          1.        ,   1.        ],\n",
       "       ...,\n",
       "       [150.58999634, 148.5       , 150.47000122, ...,   1.        ,\n",
       "          1.        ,   1.        ],\n",
       "       [148.5       , 150.47000122, 152.58999634, ...,   1.        ,\n",
       "          1.        ,   1.        ],\n",
       "       [150.47000122, 152.58999634, 152.99000549, ...,   1.        ,\n",
       "          1.        ,   1.        ]])"
      ]
     },
     "execution_count": 43,
     "metadata": {},
     "output_type": "execute_result"
    }
   ],
   "source": [
    "X_train = np.hstack([X_train, np.ones_like(X_train)])\n",
    "X_train"
   ]
  },
  {
   "cell_type": "code",
   "execution_count": 44,
   "id": "4c0b953e",
   "metadata": {},
   "outputs": [
    {
     "name": "stdout",
     "output_type": "stream",
     "text": [
      "[[-0.0482739   0.09439403 -0.07995529  0.03184879 -0.0985945   0.1134461\n",
      "  -0.03198492  0.08435436 -0.07484807  0.97792284  0.49252359  0.49252359\n",
      "   0.49252359  0.49252359  0.49252359  0.49252359  0.49252359  0.49252359\n",
      "   0.49252359  0.49252359]]\n"
     ]
    },
    {
     "data": {
      "text/plain": [
       "array([ 0.09439403, -0.07995529,  0.03184879, -0.0985945 ,  0.1134461 ,\n",
       "       -0.03198492,  0.08435436, -0.07484807,  0.97792284,  0.49252359])"
      ]
     },
     "execution_count": 44,
     "metadata": {},
     "output_type": "execute_result"
    }
   ],
   "source": [
    "w = np.linalg.pinv(X_train.T.dot(X_train)).dot(X_train.T).dot(y_train)\n",
    "print(w.reshape(1,-1))\n",
    "w[1:11]"
   ]
  },
  {
   "cell_type": "code",
   "execution_count": 45,
   "id": "6a60df7a",
   "metadata": {},
   "outputs": [
    {
     "name": "stdout",
     "output_type": "stream",
     "text": [
      "[243.63323487 242.48001344 244.15461212 249.76193589 248.71753943\n",
      " 250.10395375 251.39187395 252.90815305 250.41386967 249.25462171\n",
      " 248.41659602 247.31010586 249.56491284 254.4483982  255.53599649\n",
      " 255.15674981 253.7585777  252.20561407 254.24927251 261.75515141\n",
      " 259.7046061  259.92342397 261.65499873 262.06898375 260.02104554\n",
      " 259.66744108 259.49727105 261.79145681 264.15924461 263.42889695\n",
      " 261.52632388 259.25485683 260.34337856 262.20914807 265.44411161\n",
      " 266.82212043 268.67651442 272.06674359 272.24920763 270.64063771\n",
      " 269.50059893 269.68048619 272.57527129 274.06999966 276.73703847\n",
      " 276.35044897 278.88104719 279.80891053 279.14885184 278.28246267\n",
      " 279.0268163  281.92898077 280.60173352 280.99778931 284.02659789\n",
      " 285.77312291 287.97469003 291.56084561 289.29357953 289.0241093\n",
      " 288.84669471 286.78427027 284.2360452  284.83969981 286.57249267\n",
      " 287.61704245 289.33063047 292.39231765 292.86754862 293.49276239\n",
      " 290.59203013 290.29752826 291.14508782 292.67814807 292.33302867\n",
      " 292.7835421  295.79588814 295.92477256 293.77471967 289.76748642\n",
      " 284.46057091 273.59753153 271.77194222 270.84306799 269.4267246\n",
      " 268.55076515 269.71446583 270.3557557  268.04813569 265.76741855\n",
      " 262.91602483 264.66113349 265.90780785 269.35068605 270.39508469\n",
      " 267.24028113 270.74130619 273.69348348 279.56226135 281.95180353\n",
      " 283.82733449 285.28464599 283.06901358 273.34062806 268.77795698\n",
      " 269.89147709 269.2239805  264.90956453 263.89181218 265.40151415\n",
      " 266.42044638 269.45051933 267.97853607 264.14628616]\n"
     ]
    }
   ],
   "source": [
    "y_pre = X_test.dot(w[1:11])\n",
    "print(y_pre)"
   ]
  },
  {
   "cell_type": "code",
   "execution_count": 46,
   "id": "0e527158",
   "metadata": {},
   "outputs": [
    {
     "name": "stdout",
     "output_type": "stream",
     "text": [
      "[160.1000061  165.55999756 165.21000671 165.22999573 166.47000122\n",
      " 167.63000488 166.6499939  165.02000427 165.33000183 163.77000427\n",
      " 163.75999451 168.41000366 169.67999268 169.58999634 168.53999329\n",
      " 167.44999695 165.78999329 173.57000732 173.5        171.77000427\n",
      " 173.55999756 173.75       172.57000732 172.07000732 172.07000732\n",
      " 172.69000244 175.05000305 175.16000366 174.19999695 171.55999756\n",
      " 171.83999634 172.99000549 175.42999268 177.30000305 177.25\n",
      " 180.08999634 180.94999695 179.58000183 179.21000671 177.82000732\n",
      " 180.57000732 180.96000671 183.78999329 183.30999756 183.94999695\n",
      " 186.00999451 184.91999817 185.00999451 183.96000671 187.\n",
      " 186.67999268 185.27000427 188.05999756 189.25       189.58999634\n",
      " 193.97000122 192.46000671 191.33000183 191.80999756 190.67999268\n",
      " 188.61000061 188.08000183 189.77000427 190.53999329 190.69000244\n",
      " 193.99000549 193.72999573 195.1000061  193.13000488 191.94000244\n",
      " 192.75       193.61999512 194.5        193.22000122 195.83000183\n",
      " 196.44999695 195.61000061 192.58000183 191.16999817 181.99000549\n",
      " 178.8500061  179.80000305 178.19000244 177.97000122 177.78999329\n",
      " 179.46000671 177.44999695 176.57000732 174.         174.49000549\n",
      " 175.83999634 177.22999573 181.11999512 176.38000488 178.61000061\n",
      " 180.19000244 184.11999512 187.6499939  187.86999512 189.46000671\n",
      " 189.69999695 182.91000366 177.55999756 178.17999268 179.36000061\n",
      " 176.30000305 174.21000671 175.74000549 175.00999451 177.97000122\n",
      " 179.07000732 175.49000549 173.92999268 174.78999329]\n"
     ]
    }
   ],
   "source": [
    "print(y_test)"
   ]
  },
  {
   "cell_type": "code",
   "execution_count": 47,
   "id": "0808e3a9",
   "metadata": {},
   "outputs": [
    {
     "data": {
      "image/png": "[encoded data removed]",
      "text/plain": [
       "<Figure size 1400x700 with 1 Axes>"
      ]
     },
     "metadata": {},
     "output_type": "display_data"
    }
   ],
   "source": [
    "# Plot the predictions\n",
    "plt.figure(figsize=(14, 7))\n",
    "plt.plot(y_test, label=\"Tested Stock Price\", color=\"blue\")\n",
    "plt.plot(y_pre, label=\"Predictions (Normal Equation Method)\", color=\"green\",linestyle=\"--\")\n",
    "plt.legend()\n",
    "plt.title(\"Stock Price Predictions vs Stock Price Tested : Normal Equation Method\")\n",
    "plt.show()"
   ]
  },
  {
   "cell_type": "code",
   "execution_count": 48,
   "id": "c496adf9",
   "metadata": {},
   "outputs": [
    {
     "name": "stdout",
     "output_type": "stream",
     "text": [
      "RMSE = 91.469 \n",
      "MSE = 8366.532502043712 \n",
      "MAE = 91.27146170202613 \n",
      "R2 = -102.56513885691409\n"
     ]
    }
   ],
   "source": [
    "RMSE= float(format(np.sqrt(mean_squared_error(y_test, y_pre)), \".3f\"))\n",
    "MSE= mean_squared_error(y_test, y_pre)\n",
    "MAE= mean_absolute_error(y_test, y_pre)\n",
    "r2= r2_score(y_test, y_pre)\n",
    "\n",
    "print('RMSE =',RMSE, '\\nMSE =',MSE, '\\nMAE =',MAE, '\\nR2 =', r2) "
   ]
  },
  {
   "cell_type": "markdown",
   "id": "112f9cc7",
   "metadata": {},
   "source": [
    "### **2. Predict whether the next closing price will be higher than 2% of the previous closing price.**\n",
    "\n",
    "– Python is preferred.\n",
    "\n",
    "– Use 1 year or two years’ data as the training set.\n",
    "\n",
    "– See how your answers evolve as you play with different values of α and criterion for \n",
    "determining convergence.\n",
    "\n",
    "– Plot your model performance together with real data for 6 months for your choice of α."
   ]
  },
  {
   "cell_type": "code",
   "execution_count": 20,
   "id": "1803fee8",
   "metadata": {},
   "outputs": [],
   "source": [
    "import yfinance as yf\n",
    "import pandas as pd\n",
    "import matplotlib.pyplot as plt\n",
    "import plotly.express as px\n",
    "import seaborn as sns\n",
    "import datetime\n",
    "import numpy as np"
   ]
  },
  {
   "cell_type": "code",
   "execution_count": 59,
   "id": "c2bda8aa",
   "metadata": {},
   "outputs": [
    {
     "name": "stdout",
     "output_type": "stream",
     "text": [
      "[*********************100%%**********************]  1 of 1 completed\n"
     ]
    }
   ],
   "source": [
    "#Fetch Data\n",
    "specified_date = datetime(2023, 9, 24)\n",
    "start = specified_date - timedelta(days=730)\n",
    "end = specified_date - timedelta(days=180)\n",
    "AAPL = yf.download('AAPL', start, end)\n",
    "df_test = pd.DataFrame(AAPL.Close)"
   ]
  },
  {
   "cell_type": "code",
   "execution_count": 60,
   "id": "90275461",
   "metadata": {},
   "outputs": [
    {
     "data": {
      "text/html": [
       "<div>\n",
       "<style scoped>\n",
       "    .dataframe tbody tr th:only-of-type {\n",
       "        vertical-align: middle;\n",
       "    }\n",
       "\n",
       "    .dataframe tbody tr th {\n",
       "        vertical-align: top;\n",
       "    }\n",
       "\n",
       "    .dataframe thead th {\n",
       "        text-align: right;\n",
       "    }\n",
       "</style>\n",
       "<table border=\"1\" class=\"dataframe\">\n",
       "  <thead>\n",
       "    <tr style=\"text-align: right;\">\n",
       "      <th></th>\n",
       "      <th>Close</th>\n",
       "    </tr>\n",
       "    <tr>\n",
       "      <th>Date</th>\n",
       "      <th></th>\n",
       "    </tr>\n",
       "  </thead>\n",
       "  <tbody>\n",
       "    <tr>\n",
       "      <th>2021-09-24</th>\n",
       "      <td>146.919998</td>\n",
       "    </tr>\n",
       "    <tr>\n",
       "      <th>2021-09-27</th>\n",
       "      <td>145.369995</td>\n",
       "    </tr>\n",
       "    <tr>\n",
       "      <th>2021-09-28</th>\n",
       "      <td>141.910004</td>\n",
       "    </tr>\n",
       "    <tr>\n",
       "      <th>2021-09-29</th>\n",
       "      <td>142.830002</td>\n",
       "    </tr>\n",
       "    <tr>\n",
       "      <th>2021-09-30</th>\n",
       "      <td>141.500000</td>\n",
       "    </tr>\n",
       "  </tbody>\n",
       "</table>\n",
       "</div>"
      ],
      "text/plain": [
       "                 Close\n",
       "Date                  \n",
       "2021-09-24  146.919998\n",
       "2021-09-27  145.369995\n",
       "2021-09-28  141.910004\n",
       "2021-09-29  142.830002\n",
       "2021-09-30  141.500000"
      ]
     },
     "execution_count": 60,
     "metadata": {},
     "output_type": "execute_result"
    }
   ],
   "source": [
    "df_test.head()"
   ]
  },
  {
   "cell_type": "code",
   "execution_count": 61,
   "id": "8fc8ca8a",
   "metadata": {},
   "outputs": [
    {
     "data": {
      "text/plain": [
       "array([[0, 0, 0, 0, 0, 0, 0, 0, 0, 0, 0, 0, 0, 1, 0, 0, 0, 0, 0, 0, 0, 0,\n",
       "        0, 1, 0, 0, 0, 0, 0, 0, 0, 0, 0, 0, 0, 0, 0, 0, 1, 0, 0, 0, 0, 0,\n",
       "        1, 1, 0, 0, 0, 1, 1, 1, 0, 1, 0, 0, 1, 0, 0, 0, 0, 0, 0, 1, 0, 0,\n",
       "        0, 0, 1, 0, 0, 0, 0, 0, 0, 0, 0, 0, 0, 0, 0, 0, 0, 0, 0, 0, 1, 1,\n",
       "        0, 0, 0, 0, 0, 0, 0, 0, 0, 0, 1, 0, 0, 0, 0, 0, 0, 0, 0, 0, 1, 0,\n",
       "        0, 0, 0, 1, 0, 0, 0, 1, 1, 0, 1, 0, 1, 0, 1, 0, 0, 0, 0, 0, 0, 1,\n",
       "        0, 0, 0, 0, 0, 0, 0, 0, 0, 0, 0, 0, 0, 0, 0, 0, 1, 0, 0, 0, 1, 0,\n",
       "        0, 0, 0, 0, 0, 1, 0, 1, 0, 0, 0, 1, 0, 0, 1, 1, 0, 0, 0, 0, 0, 0,\n",
       "        0, 0, 0, 0, 0, 1, 0, 0, 1, 0, 1, 1, 0, 0, 0, 0, 0, 0, 0, 1, 0, 0,\n",
       "        0, 0, 1, 0, 0, 1, 0, 0, 0, 0, 0, 1, 0, 1, 0, 0, 1, 0, 0, 0, 0, 1,\n",
       "        0, 1, 0, 0, 0, 0, 0, 0, 0, 0, 0, 0, 0, 0, 0, 0, 0, 0, 0, 0, 0, 1,\n",
       "        0, 0, 0, 0, 1, 0, 0, 0, 0, 0, 0, 0, 0, 0, 1, 1, 0, 0, 0, 0, 0, 0,\n",
       "        1, 0, 1, 0, 0, 0, 1, 0, 0, 0, 0, 1, 0, 0, 0, 0, 0, 0, 0, 0, 1, 0,\n",
       "        0, 0, 0, 0, 0, 0, 0, 0, 0, 0, 0, 1, 0, 0, 0, 0, 0, 0, 0, 0, 0, 0,\n",
       "        0, 0, 0, 0, 1, 0, 0, 0, 0, 1, 0, 0, 0, 0, 1, 0, 0, 1, 0, 0, 0, 0,\n",
       "        0, 0, 1, 0, 0, 0, 0, 0, 0, 0, 1, 1, 0, 0, 0, 0, 0, 0, 0, 0, 0, 0,\n",
       "        0, 0, 0, 0, 0, 0, 0, 0, 1, 0, 0, 0, 0, 0, 0, 0, 0, 0, 0, 0, 0, 0,\n",
       "        0, 0, 0, 0]])"
      ]
     },
     "execution_count": 61,
     "metadata": {},
     "output_type": "execute_result"
    }
   ],
   "source": [
    "# Generate y train dataset for training machine learning models.\n",
    "y_train = (df_test['Close'].shift(-1) > df_test['Close']*1.02).astype(int)\n",
    "y_train.dropna(inplace = True)\n",
    "y_train = y_train.values\n",
    "y_train.reshape(1,-1)"
   ]
  },
  {
   "cell_type": "code",
   "execution_count": 62,
   "id": "b1149051",
   "metadata": {},
   "outputs": [
    {
     "data": {
      "text/plain": [
       "0.15873015873015872"
      ]
     },
     "execution_count": 62,
     "metadata": {},
     "output_type": "execute_result"
    }
   ],
   "source": [
    "sum(y_train)/len(y_train)"
   ]
  },
  {
   "cell_type": "code",
   "execution_count": 63,
   "id": "1319f3c8",
   "metadata": {},
   "outputs": [
    {
     "data": {
      "text/plain": [
       "array([[146.91999817],\n",
       "       [145.36999512],\n",
       "       [141.91000366],\n",
       "       [142.83000183],\n",
       "       [141.5       ],\n",
       "       [142.6499939 ],\n",
       "       [139.13999939],\n",
       "       [141.11000061],\n",
       "       [142.        ],\n",
       "       [143.28999329],\n",
       "       [142.8999939 ],\n",
       "       [142.80999756],\n",
       "       [141.50999451],\n",
       "       [140.91000366],\n",
       "       [143.75999451],\n",
       "       [144.83999634],\n",
       "       [146.55000305],\n",
       "       [148.75999451],\n",
       "       [149.25999451],\n",
       "       [149.47999573],\n",
       "       [148.69000244],\n",
       "       [148.63999939],\n",
       "       [149.32000732],\n",
       "       [148.8500061 ],\n",
       "       [152.57000732],\n",
       "       [149.80000305],\n",
       "       [148.96000671],\n",
       "       [150.02000427],\n",
       "       [151.49000549],\n",
       "       [150.96000671],\n",
       "       [151.27999878],\n",
       "       [150.44000244],\n",
       "       [150.80999756],\n",
       "       [147.91999817],\n",
       "       [147.86999512],\n",
       "       [149.99000549],\n",
       "       [150.        ],\n",
       "       [151.        ],\n",
       "       [153.49000549],\n",
       "       [157.86999512],\n",
       "       [160.55000305],\n",
       "       [161.02000427],\n",
       "       [161.41000366],\n",
       "       [161.94000244],\n",
       "       [156.80999756],\n",
       "       [160.24000549],\n",
       "       [165.30000305],\n",
       "       [164.77000427],\n",
       "       [163.75999451],\n",
       "       [161.83999634],\n",
       "       [165.32000732],\n",
       "       [171.17999268],\n",
       "       [175.08000183],\n",
       "       [174.55999756],\n",
       "       [179.44999695],\n",
       "       [175.74000549],\n",
       "       [174.33000183],\n",
       "       [179.30000305],\n",
       "       [172.25999451],\n",
       "       [171.13999939],\n",
       "       [169.75      ],\n",
       "       [172.99000549],\n",
       "       [175.63999939],\n",
       "       [176.27999878],\n",
       "       [180.33000183],\n",
       "       [179.28999329],\n",
       "       [179.38000488],\n",
       "       [178.19999695],\n",
       "       [177.57000732],\n",
       "       [182.00999451],\n",
       "       [179.69999695],\n",
       "       [174.91999817],\n",
       "       [172.        ],\n",
       "       [172.16999817],\n",
       "       [172.19000244],\n",
       "       [175.08000183],\n",
       "       [175.52999878],\n",
       "       [172.19000244],\n",
       "       [173.07000732],\n",
       "       [169.80000305],\n",
       "       [166.22999573],\n",
       "       [164.50999451],\n",
       "       [162.41000366],\n",
       "       [161.61999512],\n",
       "       [159.77999878],\n",
       "       [159.69000244],\n",
       "       [159.22000122],\n",
       "       [170.33000183],\n",
       "       [174.77999878],\n",
       "       [174.61000061],\n",
       "       [175.83999634],\n",
       "       [172.8999939 ],\n",
       "       [172.38999939],\n",
       "       [171.66000366],\n",
       "       [174.83000183],\n",
       "       [176.27999878],\n",
       "       [172.11999512],\n",
       "       [168.63999939],\n",
       "       [168.88000488],\n",
       "       [172.78999329],\n",
       "       [172.55000305],\n",
       "       [168.88000488],\n",
       "       [167.30000305],\n",
       "       [164.32000732],\n",
       "       [160.07000732],\n",
       "       [162.74000549],\n",
       "       [164.8500061 ],\n",
       "       [165.11999512],\n",
       "       [163.19999695],\n",
       "       [166.55999756],\n",
       "       [166.22999573],\n",
       "       [163.16999817],\n",
       "       [159.30000305],\n",
       "       [157.44000244],\n",
       "       [162.94999695],\n",
       "       [158.52000427],\n",
       "       [154.72999573],\n",
       "       [150.61999512],\n",
       "       [155.08999634],\n",
       "       [159.58999634],\n",
       "       [160.61999512],\n",
       "       [163.97999573],\n",
       "       [165.38000488],\n",
       "       [168.82000732],\n",
       "       [170.21000671],\n",
       "       [174.07000732],\n",
       "       [174.72000122],\n",
       "       [175.6000061 ],\n",
       "       [178.96000671],\n",
       "       [177.77000427],\n",
       "       [174.61000061],\n",
       "       [174.30999756],\n",
       "       [178.44000244],\n",
       "       [175.05999756],\n",
       "       [171.83000183],\n",
       "       [172.13999939],\n",
       "       [170.08999634],\n",
       "       [165.75      ],\n",
       "       [167.66000366],\n",
       "       [170.3999939 ],\n",
       "       [165.28999329],\n",
       "       [165.07000732],\n",
       "       [167.3999939 ],\n",
       "       [167.22999573],\n",
       "       [166.41999817],\n",
       "       [161.78999329],\n",
       "       [162.88000488],\n",
       "       [156.80000305],\n",
       "       [156.57000732],\n",
       "       [163.63999939],\n",
       "       [157.6499939 ],\n",
       "       [157.96000671],\n",
       "       [159.47999573],\n",
       "       [166.02000427],\n",
       "       [156.77000427],\n",
       "       [157.27999878],\n",
       "       [152.05999756],\n",
       "       [154.50999451],\n",
       "       [146.5       ],\n",
       "       [142.55999756],\n",
       "       [147.11000061],\n",
       "       [145.53999329],\n",
       "       [149.24000549],\n",
       "       [140.82000732],\n",
       "       [137.3500061 ],\n",
       "       [137.58999634],\n",
       "       [143.11000061],\n",
       "       [140.36000061],\n",
       "       [140.52000427],\n",
       "       [143.77999878],\n",
       "       [149.63999939],\n",
       "       [148.83999634],\n",
       "       [148.71000671],\n",
       "       [151.21000671],\n",
       "       [145.38000488],\n",
       "       [146.13999939],\n",
       "       [148.71000671],\n",
       "       [147.96000671],\n",
       "       [142.63999939],\n",
       "       [137.13000488],\n",
       "       [131.88000488],\n",
       "       [132.75999451],\n",
       "       [135.42999268],\n",
       "       [130.05999756],\n",
       "       [131.55999756],\n",
       "       [135.86999512],\n",
       "       [135.3500061 ],\n",
       "       [138.27000427],\n",
       "       [141.66000366],\n",
       "       [141.66000366],\n",
       "       [137.44000244],\n",
       "       [139.22999573],\n",
       "       [136.72000122],\n",
       "       [138.92999268],\n",
       "       [141.55999756],\n",
       "       [142.91999817],\n",
       "       [146.3500061 ],\n",
       "       [147.03999329],\n",
       "       [144.86999512],\n",
       "       [145.86000061],\n",
       "       [145.49000549],\n",
       "       [148.47000122],\n",
       "       [150.16999817],\n",
       "       [147.07000732],\n",
       "       [151.        ],\n",
       "       [153.03999329],\n",
       "       [155.3500061 ],\n",
       "       [154.08999634],\n",
       "       [152.94999695],\n",
       "       [151.6000061 ],\n",
       "       [156.78999329],\n",
       "       [157.3500061 ],\n",
       "       [162.50999451],\n",
       "       [161.50999451],\n",
       "       [160.00999451],\n",
       "       [166.13000488],\n",
       "       [165.80999756],\n",
       "       [165.3500061 ],\n",
       "       [164.86999512],\n",
       "       [164.91999817],\n",
       "       [169.24000549],\n",
       "       [168.49000549],\n",
       "       [172.1000061 ],\n",
       "       [173.19000244],\n",
       "       [173.02999878],\n",
       "       [174.55000305],\n",
       "       [174.1499939 ],\n",
       "       [171.52000427],\n",
       "       [167.57000732],\n",
       "       [167.22999573],\n",
       "       [167.52999878],\n",
       "       [170.02999878],\n",
       "       [163.61999512],\n",
       "       [161.38000488],\n",
       "       [158.91000366],\n",
       "       [157.22000122],\n",
       "       [157.96000671],\n",
       "       [155.80999756],\n",
       "       [154.52999878],\n",
       "       [155.96000671],\n",
       "       [154.46000671],\n",
       "       [157.36999512],\n",
       "       [163.42999268],\n",
       "       [153.83999634],\n",
       "       [155.30999756],\n",
       "       [152.36999512],\n",
       "       [150.69999695],\n",
       "       [154.47999573],\n",
       "       [156.8999939 ],\n",
       "       [153.72000122],\n",
       "       [152.74000549],\n",
       "       [150.42999268],\n",
       "       [150.77000427],\n",
       "       [151.75999451],\n",
       "       [149.83999634],\n",
       "       [142.47999573],\n",
       "       [138.19999695],\n",
       "       [142.44999695],\n",
       "       [146.1000061 ],\n",
       "       [146.3999939 ],\n",
       "       [145.42999268],\n",
       "       [140.08999634],\n",
       "       [140.41999817],\n",
       "       [138.97999573],\n",
       "       [138.33999634],\n",
       "       [142.99000549],\n",
       "       [138.38000488],\n",
       "       [142.41000366],\n",
       "       [143.75      ],\n",
       "       [143.86000061],\n",
       "       [143.38999939],\n",
       "       [147.27000427],\n",
       "       [149.44999695],\n",
       "       [152.33999634],\n",
       "       [149.3500061 ],\n",
       "       [144.80000305],\n",
       "       [155.74000549],\n",
       "       [153.33999634],\n",
       "       [150.6499939 ],\n",
       "       [145.02999878],\n",
       "       [138.88000488],\n",
       "       [138.38000488],\n",
       "       [138.91999817],\n",
       "       [139.5       ],\n",
       "       [134.86999512],\n",
       "       [146.86999512],\n",
       "       [149.69999695],\n",
       "       [148.27999878],\n",
       "       [150.03999329],\n",
       "       [148.78999329],\n",
       "       [150.72000122],\n",
       "       [151.28999329],\n",
       "       [148.00999451],\n",
       "       [150.17999268],\n",
       "       [151.07000732],\n",
       "       [148.11000061],\n",
       "       [144.22000122],\n",
       "       [141.16999817],\n",
       "       [148.02999878],\n",
       "       [148.30999756],\n",
       "       [147.80999756],\n",
       "       [146.63000488],\n",
       "       [142.91000366],\n",
       "       [140.94000244],\n",
       "       [142.6499939 ],\n",
       "       [142.16000366],\n",
       "       [144.49000549],\n",
       "       [145.47000122],\n",
       "       [143.21000671],\n",
       "       [136.5       ],\n",
       "       [134.50999451],\n",
       "       [132.36999512],\n",
       "       [132.30000305],\n",
       "       [135.44999695],\n",
       "       [132.22999573],\n",
       "       [131.86000061],\n",
       "       [130.02999878],\n",
       "       [126.04000092],\n",
       "       [129.61000061],\n",
       "       [129.92999268],\n",
       "       [125.06999969],\n",
       "       [126.36000061],\n",
       "       [125.01999664],\n",
       "       [129.61999512],\n",
       "       [130.1499939 ],\n",
       "       [130.72999573],\n",
       "       [133.49000549],\n",
       "       [133.41000366],\n",
       "       [134.75999451],\n",
       "       [135.94000244],\n",
       "       [135.21000671],\n",
       "       [135.27000427],\n",
       "       [137.86999512],\n",
       "       [141.11000061],\n",
       "       [142.52999878],\n",
       "       [141.86000061],\n",
       "       [143.96000671],\n",
       "       [145.92999268],\n",
       "       [143.        ],\n",
       "       [144.28999329],\n",
       "       [145.42999268],\n",
       "       [150.82000732],\n",
       "       [154.5       ],\n",
       "       [151.72999573],\n",
       "       [154.6499939 ],\n",
       "       [151.91999817],\n",
       "       [150.86999512],\n",
       "       [151.00999451],\n",
       "       [153.8500061 ],\n",
       "       [153.19999695],\n",
       "       [155.33000183],\n",
       "       [153.71000671],\n",
       "       [152.55000305],\n",
       "       [148.47999573],\n",
       "       [148.91000366],\n",
       "       [149.3999939 ],\n",
       "       [146.71000671],\n",
       "       [147.91999817],\n",
       "       [147.41000366],\n",
       "       [145.30999756],\n",
       "       [145.91000366],\n",
       "       [151.02999878],\n",
       "       [153.83000183],\n",
       "       [151.6000061 ],\n",
       "       [152.86999512],\n",
       "       [150.58999634],\n",
       "       [148.5       ],\n",
       "       [150.47000122],\n",
       "       [152.58999634],\n",
       "       [152.99000549],\n",
       "       [155.8500061 ],\n",
       "       [155.        ],\n",
       "       [157.3999939 ],\n",
       "       [159.27999878],\n",
       "       [157.83000183],\n",
       "       [158.92999268],\n",
       "       [160.25      ],\n",
       "       [158.27999878]])"
      ]
     },
     "execution_count": 63,
     "metadata": {},
     "output_type": "execute_result"
    }
   ],
   "source": [
    "X_train = df['Close'].values\n",
    "X_train.reshape(-1,1)\n"
   ]
  },
  {
   "cell_type": "markdown",
   "id": "8676664d",
   "metadata": {},
   "source": [
    "### **Logistic Regression**"
   ]
  },
  {
   "cell_type": "code",
   "execution_count": 64,
   "id": "e7b025e2",
   "metadata": {},
   "outputs": [],
   "source": [
    "def sigmoid(Z):\n",
    "    g = 1 / (1+np.exp(-Z))\n",
    "    return g\n",
    "\n",
    "def compute_cost_logistic(X,y,w,b):\n",
    "    m = X.shape[0]\n",
    "    cost = 0.\n",
    "    \n",
    "    for i in range(m):\n",
    "        f_wb_i = sigmoid(np.dot(X[i],w) + b)\n",
    "        cost += (-y[i]*np.log(f_wb_i))-(1-y[i])*np.log(1-f_wb_i)\n",
    "    total_cost = cost/m\n",
    "    return total_cost\n",
    "\n",
    "def compute_gradient(X,y,w,b):\n",
    "    m = 378\n",
    "    dj_dw = 0.\n",
    "    dj_db = 0.\n",
    "    \n",
    "    for i in range(m):\n",
    "        f_wb_i = sigmoid(np.dot(X[i],w) + b)\n",
    "        error = f_wb_i - y[i]\n",
    "        dj_dw = dj_dw + error * X[i]\n",
    "        dj_db = dj_db + error\n",
    "    dj_db = dj_db / m\n",
    "    dj_dw = dj_dw / m\n",
    "    \n",
    "    return dj_db, dj_dw\n",
    "\n",
    "def gradient_descent(X,y,w,b,alpha,iterations):\n",
    "    J_history = []\n",
    "    for i in range(iterations):\n",
    "        dj_db, dj_dw = compute_gradient(X,y,w,b)\n",
    "        \n",
    "        w = w - alpha * dj_dw\n",
    "        b = b - alpha * dj_db\n",
    "        \n",
    "        if i < 100000:\n",
    "            J_history.append(compute_cost_logistic(X,y,w,b))\n",
    "        if i % (iterations//10) == 0:\n",
    "            print(i, J_history[-1])\n",
    "            \n",
    "    return w,b,J_history"
   ]
  },
  {
   "cell_type": "code",
   "execution_count": 65,
   "id": "4ad33e61",
   "metadata": {},
   "outputs": [
    {
     "name": "stdout",
     "output_type": "stream",
     "text": [
      "0 [1.10799577]\n",
      "15000 [0.50045604]\n",
      "30000 [0.50040777]\n",
      "45000 [0.50036025]\n",
      "60000 [0.50031347]\n",
      "75000 [0.50026742]\n",
      "90000 [0.50022209]\n",
      "105000 [0.49393574]\n",
      "120000 [0.49393574]\n",
      "135000 [0.49393574]\n",
      "[-0.01928325] [0.20007008]\n"
     ]
    }
   ],
   "source": [
    "w_in = np.zeros(1,)\n",
    "b_in = 0\n",
    "alpha = 0.00087\n",
    "iterations = 150000\n",
    "\n",
    "w_final, b_final, J_hist = gradient_descent(X_train, y_train, w_in, b_in, alpha, iterations)\n",
    "print(w_final, b_final)"
   ]
  },
  {
   "cell_type": "code",
   "execution_count": 66,
   "id": "1b86e8e9",
   "metadata": {},
   "outputs": [],
   "source": [
    "def predict(X,w,b):\n",
    "    m = X.shape[0]\n",
    "    p = []\n",
    "\n",
    "    for i in range(m):\n",
    "        w = np.ones_like(X[i]) * w_in \n",
    "        f_wb = sigmoid(np.dot(X[i],w)+b)\n",
    "        if f_wb < 0.5:\n",
    "            p.append(0)\n",
    "        else:\n",
    "            p.append(1)\n",
    "    return np.array(p)"
   ]
  },
  {
   "cell_type": "code",
   "execution_count": 76,
   "id": "5a13cf88",
   "metadata": {},
   "outputs": [
    {
     "name": "stdout",
     "output_type": "stream",
     "text": [
      "[0 0 0 0 0 0 0 0 0 0 0 0 0 0 0 0 0 0 0 0 0 0 0 0 0 0 0 0 0 0 0 0 0 0 0 0 0\n",
      " 0 0 0 0 0 0 0 0 0 0 0 0 0 0 0 0 0 0 0 0 0 0 0 0 0 0 0 0 0 0 0 0 0 0 0 0 0\n",
      " 0 0 0 0 0 0 0 0 0 0 0 0 0 0 0 0 0 0 0 0 0 0 0 0 0 0 0 0 0 0 0 0 0 0 0 0 0\n",
      " 0 0 0 0 0 0 0 0 0 0 0 0 0]\n"
     ]
    },
    {
     "data": {
      "text/plain": [
       "124"
      ]
     },
     "execution_count": 76,
     "metadata": {},
     "output_type": "execute_result"
    }
   ],
   "source": [
    "w_in = -0.01928325\n",
    "y_pred = predict(X_test, w_in , b_final)\n",
    "print(y_pred)\n",
    "len(y_pred)"
   ]
  },
  {
   "cell_type": "code",
   "execution_count": 68,
   "id": "792406aa",
   "metadata": {},
   "outputs": [],
   "source": [
    "start_test = specified_date - timedelta(days = 180)\n",
    "end_test = specified_date - timedelta(days = 0)"
   ]
  },
  {
   "cell_type": "code",
   "execution_count": 69,
   "id": "76502509",
   "metadata": {},
   "outputs": [
    {
     "name": "stdout",
     "output_type": "stream",
     "text": [
      "[*********************100%%**********************]  1 of 1 completed\n"
     ]
    },
    {
     "data": {
      "text/plain": [
       "(124, 1)"
      ]
     },
     "execution_count": 69,
     "metadata": {},
     "output_type": "execute_result"
    }
   ],
   "source": [
    "AAPL = yf.download('AAPL', start_test, end_test)\n",
    "df_test = pd.DataFrame(AAPL.Close)\n",
    "df_test.shape"
   ]
  },
  {
   "cell_type": "code",
   "execution_count": 77,
   "id": "997dd542",
   "metadata": {},
   "outputs": [
    {
     "data": {
      "text/plain": [
       "124"
      ]
     },
     "execution_count": 77,
     "metadata": {},
     "output_type": "execute_result"
    }
   ],
   "source": [
    "y_test = (df_test['Close'].shift(-1) > df_test['Close']*1.02).astype(int)\n",
    "len(y_test)"
   ]
  },
  {
   "cell_type": "code",
   "execution_count": 71,
   "id": "7dbed66b",
   "metadata": {},
   "outputs": [],
   "source": [
    "y_test.dropna(inplace = True)"
   ]
  },
  {
   "cell_type": "code",
   "execution_count": 72,
   "id": "98c7507c",
   "metadata": {},
   "outputs": [
    {
     "data": {
      "text/plain": [
       "(124,)"
      ]
     },
     "execution_count": 72,
     "metadata": {},
     "output_type": "execute_result"
    }
   ],
   "source": [
    "y_test = y_test.values\n",
    "y_test.shape"
   ]
  },
  {
   "cell_type": "code",
   "execution_count": 78,
   "id": "92d39a93",
   "metadata": {},
   "outputs": [],
   "source": [
    "X_test = df_test['Close'].values"
   ]
  },
  {
   "cell_type": "code",
   "execution_count": 79,
   "id": "6f23babf",
   "metadata": {},
   "outputs": [
    {
     "name": "stdout",
     "output_type": "stream",
     "text": [
      "Accuracy: 0.9516129032258065\n",
      "Precision: 0.0\n",
      "Recall: 0.0\n",
      "F1 Score: 0.0\n",
      "Confusion Matrix:\n",
      "[[118   0]\n",
      " [  6   0]]\n"
     ]
    },
    {
     "name": "stderr",
     "output_type": "stream",
     "text": [
      "/Users/lilyhuang/anaconda3/lib/python3.11/site-packages/sklearn/metrics/_classification.py:1469: UndefinedMetricWarning: Precision is ill-defined and being set to 0.0 due to no predicted samples. Use `zero_division` parameter to control this behavior.\n",
      "  _warn_prf(average, modifier, msg_start, len(result))\n"
     ]
    }
   ],
   "source": [
    "from sklearn.metrics import accuracy_score, precision_score, recall_score, f1_score, roc_auc_score, confusion_matrix\n",
    "from sklearn.model_selection import cross_val_score\n",
    "\n",
    "# Retrieve the probability of the positive class \n",
    "\n",
    "# Calculate various evaluation metrics.\n",
    "accuracy = accuracy_score(y_test, y_pred)\n",
    "precision = precision_score(y_test, y_pred)\n",
    "recall = recall_score(y_test, y_pred)\n",
    "f1 = f1_score(y_test, y_pred)\n",
    "auc_roc = roc_auc_score(y_test, y_pred)\n",
    "\n",
    "# Output the evaluation metrics.\n",
    "print(f\"Accuracy: {accuracy}\")\n",
    "print(f\"Precision: {precision}\")\n",
    "print(f\"Recall: {recall}\")\n",
    "print(f\"F1 Score: {f1}\")\n",
    "\n",
    "# Output the confusion matrix\n",
    "print(\"Confusion Matrix:\")\n",
    "print(confusion_matrix(y_test, y_pred))\n",
    "\n"
   ]
  },
  {
   "cell_type": "code",
   "execution_count": 80,
   "id": "3bb8a154",
   "metadata": {},
   "outputs": [
    {
     "data": {
      "image/png": "[encoded data removed]",
      "text/plain": [
       "<Figure size 1000x600 with 1 Axes>"
      ]
     },
     "metadata": {},
     "output_type": "display_data"
    }
   ],
   "source": [
    "plt.figure(figsize = (10,6))\n",
    "plt.scatter(X_test,y_test, color = 'black', zorder = 10, s = 5)\n",
    "plt.scatter(X_test, y_pred, color = 'red')\n",
    "\n",
    "plt.show()"
   ]
  },
  {
   "cell_type": "code",
   "execution_count": 81,
   "id": "fa7db96a",
   "metadata": {},
   "outputs": [],
   "source": [
    "cm = confusion_matrix(y_test, y_pred)"
   ]
  },
  {
   "cell_type": "code",
   "execution_count": 82,
   "id": "8be6d7f0",
   "metadata": {},
   "outputs": [
    {
     "data": {
      "image/png": "[encoded data removed]",
      "text/plain": [
       "<Figure size 640x480 with 2 Axes>"
      ]
     },
     "metadata": {},
     "output_type": "display_data"
    }
   ],
   "source": [
    "sns.heatmap(cm, annot=True, cmap='Blues', fmt='g')\n",
    "plt.xlabel('Predicted labels')\n",
    "plt.ylabel('True labels')\n",
    "plt.show()"
   ]
  },
  {
   "cell_type": "markdown",
   "id": "983b3241",
   "metadata": {},
   "source": [
    "### **Scikit learn**"
   ]
  },
  {
   "cell_type": "code",
   "execution_count": 83,
   "id": "a4f1dc15",
   "metadata": {},
   "outputs": [
    {
     "data": {
      "text/html": [
       "<style>#sk-container-id-1 {color: black;}#sk-container-id-1 pre{padding: 0;}#sk-container-id-1 div.sk-toggleable {background-color: white;}#sk-container-id-1 label.sk-toggleable__label {cursor: pointer;display: block;width: 100%;margin-bottom: 0;padding: 0.3em;box-sizing: border-box;text-align: center;}#sk-container-id-1 label.sk-toggleable__label-arrow:before {content: \"▸\";float: left;margin-right: 0.25em;color: #696969;}#sk-container-id-1 label.sk-toggleable__label-arrow:hover:before {color: black;}#sk-container-id-1 div.sk-estimator:hover label.sk-toggleable__label-arrow:before {color: black;}#sk-container-id-1 div.sk-toggleable__content {max-height: 0;max-width: 0;overflow: hidden;text-align: left;background-color: #f0f8ff;}#sk-container-id-1 div.sk-toggleable__content pre {margin: 0.2em;color: black;border-radius: 0.25em;background-color: #f0f8ff;}#sk-container-id-1 input.sk-toggleable__control:checked~div.sk-toggleable__content {max-height: 200px;max-width: 100%;overflow: auto;}#sk-container-id-1 input.sk-toggleable__control:checked~label.sk-toggleable__label-arrow:before {content: \"▾\";}#sk-container-id-1 div.sk-estimator input.sk-toggleable__control:checked~label.sk-toggleable__label {background-color: #d4ebff;}#sk-container-id-1 div.sk-label input.sk-toggleable__control:checked~label.sk-toggleable__label {background-color: #d4ebff;}#sk-container-id-1 input.sk-hidden--visually {border: 0;clip: rect(1px 1px 1px 1px);clip: rect(1px, 1px, 1px, 1px);height: 1px;margin: -1px;overflow: hidden;padding: 0;position: absolute;width: 1px;}#sk-container-id-1 div.sk-estimator {font-family: monospace;background-color: #f0f8ff;border: 1px dotted black;border-radius: 0.25em;box-sizing: border-box;margin-bottom: 0.5em;}#sk-container-id-1 div.sk-estimator:hover {background-color: #d4ebff;}#sk-container-id-1 div.sk-parallel-item::after {content: \"\";width: 100%;border-bottom: 1px solid gray;flex-grow: 1;}#sk-container-id-1 div.sk-label:hover label.sk-toggleable__label {background-color: #d4ebff;}#sk-container-id-1 div.sk-serial::before {content: \"\";position: absolute;border-left: 1px solid gray;box-sizing: border-box;top: 0;bottom: 0;left: 50%;z-index: 0;}#sk-container-id-1 div.sk-serial {display: flex;flex-direction: column;align-items: center;background-color: white;padding-right: 0.2em;padding-left: 0.2em;position: relative;}#sk-container-id-1 div.sk-item {position: relative;z-index: 1;}#sk-container-id-1 div.sk-parallel {display: flex;align-items: stretch;justify-content: center;background-color: white;position: relative;}#sk-container-id-1 div.sk-item::before, #sk-container-id-1 div.sk-parallel-item::before {content: \"\";position: absolute;border-left: 1px solid gray;box-sizing: border-box;top: 0;bottom: 0;left: 50%;z-index: -1;}#sk-container-id-1 div.sk-parallel-item {display: flex;flex-direction: column;z-index: 1;position: relative;background-color: white;}#sk-container-id-1 div.sk-parallel-item:first-child::after {align-self: flex-end;width: 50%;}#sk-container-id-1 div.sk-parallel-item:last-child::after {align-self: flex-start;width: 50%;}#sk-container-id-1 div.sk-parallel-item:only-child::after {width: 0;}#sk-container-id-1 div.sk-dashed-wrapped {border: 1px dashed gray;margin: 0 0.4em 0.5em 0.4em;box-sizing: border-box;padding-bottom: 0.4em;background-color: white;}#sk-container-id-1 div.sk-label label {font-family: monospace;font-weight: bold;display: inline-block;line-height: 1.2em;}#sk-container-id-1 div.sk-label-container {text-align: center;}#sk-container-id-1 div.sk-container {/* jupyter's `normalize.less` sets `[hidden] { display: none; }` but bootstrap.min.css set `[hidden] { display: none !important; }` so we also need the `!important` here to be able to override the default hidden behavior on the sphinx rendered scikit-learn.org. See: https://github.com/scikit-learn/scikit-learn/issues/21755 */display: inline-block !important;position: relative;}#sk-container-id-1 div.sk-text-repr-fallback {display: none;}</style><div id=\"sk-container-id-1\" class=\"sk-top-container\"><div class=\"sk-text-repr-fallback\"><pre>LogisticRegression()</pre><b>In a Jupyter environment, please rerun this cell to show the HTML representation or trust the notebook. <br />On GitHub, the HTML representation is unable to render, please try loading this page with nbviewer.org.</b></div><div class=\"sk-container\" hidden><div class=\"sk-item\"><div class=\"sk-estimator sk-toggleable\"><input class=\"sk-toggleable__control sk-hidden--visually\" id=\"sk-estimator-id-1\" type=\"checkbox\" checked><label for=\"sk-estimator-id-1\" class=\"sk-toggleable__label sk-toggleable__label-arrow\">LogisticRegression</label><div class=\"sk-toggleable__content\"><pre>LogisticRegression()</pre></div></div></div></div></div>"
      ],
      "text/plain": [
       "LogisticRegression()"
      ]
     },
     "execution_count": 83,
     "metadata": {},
     "output_type": "execute_result"
    }
   ],
   "source": [
    "from sklearn.linear_model import LogisticRegression\n",
    "X_train = X_train.reshape(-1,1)\n",
    "lr_model = LogisticRegression()\n",
    "lr_model.fit(X_train, y_train)"
   ]
  },
  {
   "cell_type": "code",
   "execution_count": 84,
   "id": "325a79f5",
   "metadata": {},
   "outputs": [
    {
     "name": "stdout",
     "output_type": "stream",
     "text": [
      "[[-0.01092999]] [-6.84499266e-05]\n"
     ]
    }
   ],
   "source": [
    "print(lr_model.coef_,lr_model.intercept_)"
   ]
  },
  {
   "cell_type": "code",
   "execution_count": 85,
   "id": "86d574c9",
   "metadata": {},
   "outputs": [],
   "source": [
    "from sklearn.linear_model import LogisticRegression\n",
    "X_test = X_test.reshape(-1,1)\n",
    "lr_model = LogisticRegression()\n",
    "lr_model.fit(X_train, y_train)\n",
    "y_prediction = lr_model.predict(X_test)"
   ]
  },
  {
   "cell_type": "code",
   "execution_count": 86,
   "id": "2ecc2e74",
   "metadata": {},
   "outputs": [
    {
     "data": {
      "text/plain": [
       "124"
      ]
     },
     "execution_count": 86,
     "metadata": {},
     "output_type": "execute_result"
    }
   ],
   "source": [
    "len(y_pred)"
   ]
  },
  {
   "cell_type": "code",
   "execution_count": 88,
   "id": "91579097",
   "metadata": {},
   "outputs": [
    {
     "name": "stdout",
     "output_type": "stream",
     "text": [
      "Accuracy: 0.9516129032258065\n",
      "Precision: 0.0\n",
      "Recall: 0.0\n",
      "F1 Score: 0.0\n",
      "Confusion Matrix:\n",
      "[[118   0]\n",
      " [  6   0]]\n"
     ]
    },
    {
     "name": "stderr",
     "output_type": "stream",
     "text": [
      "/Users/lilyhuang/anaconda3/lib/python3.11/site-packages/sklearn/metrics/_classification.py:1469: UndefinedMetricWarning: Precision is ill-defined and being set to 0.0 due to no predicted samples. Use `zero_division` parameter to control this behavior.\n",
      "  _warn_prf(average, modifier, msg_start, len(result))\n"
     ]
    }
   ],
   "source": [
    "from sklearn.metrics import accuracy_score, precision_score, recall_score, f1_score, roc_auc_score, confusion_matrix\n",
    "from sklearn.model_selection import cross_val_score\n",
    "\n",
    "\n",
    "# Calculate various evaluation metrics.\n",
    "accuracy = accuracy_score(y_test, y_prediction)\n",
    "precision = precision_score(y_test, y_prediction)\n",
    "recall = recall_score(y_test, y_prediction)\n",
    "f1 = f1_score(y_test, y_prediction)\n",
    "\n",
    "# Output the evaluation metrics.\n",
    "print(f\"Accuracy: {accuracy}\")\n",
    "print(f\"Precision: {precision}\")\n",
    "print(f\"Recall: {recall}\")\n",
    "print(f\"F1 Score: {f1}\")\n",
    "\n",
    "# Output the confusion matrix\n",
    "print(\"Confusion Matrix:\")\n",
    "print(confusion_matrix(y_test, y_pred))"
   ]
  },
  {
   "cell_type": "code",
   "execution_count": 89,
   "id": "db3ebc0f",
   "metadata": {},
   "outputs": [],
   "source": [
    "cm = confusion_matrix(y_test, y_pred)"
   ]
  },
  {
   "cell_type": "code",
   "execution_count": 90,
   "id": "68adc2f3",
   "metadata": {},
   "outputs": [
    {
     "data": {
      "image/png": "[encoded data removed]",
      "text/plain": [
       "<Figure size 640x480 with 2 Axes>"
      ]
     },
     "metadata": {},
     "output_type": "display_data"
    }
   ],
   "source": [
    "sns.heatmap(cm, annot=True, cmap='Reds', fmt='g')\n",
    "plt.xlabel('Predicted labels')\n",
    "plt.ylabel('True labels')\n",
    "plt.show()"
   ]
  }
 ],
 "metadata": {
  "kernelspec": {
   "display_name": "Python 3 (ipykernel)",
   "language": "python",
   "name": "python3"
  },
  "language_info": {
   "codemirror_mode": {
    "name": "ipython",
    "version": 3
   },
   "file_extension": ".py",
   "mimetype": "text/x-python",
   "name": "python",
   "nbconvert_exporter": "python",
   "pygments_lexer": "ipython3",
   "version": "3.11.4"
  }
 },
 "nbformat": 4,
 "nbformat_minor": 5
}
